{
 "cells": [
  {
   "cell_type": "markdown",
   "metadata": {},
   "source": [
    "# Semisupervised learning on MNIST"
   ]
  },
  {
   "cell_type": "markdown",
   "metadata": {},
   "source": [
    "The challenge for this project was to achieve good performance in a semi-supervised learning task on the MNIST dataset. Of the 50,000 training examples, labels are available for some small subset of 100 to 500. I predominantly focused on applying a label propagation algorithm. Below I discuss why, and how it fared."
   ]
  },
  {
   "cell_type": "markdown",
   "metadata": {},
   "source": [
    "# Choice of supervised learning approach"
   ]
  },
  {
   "cell_type": "markdown",
   "metadata": {},
   "source": [
    "On review of the literature, some supervised learning approaches that featured prominently were:\n",
    "* Generative models:  (1) (2)\n",
    "* Semi-supervised support vector machines (1)\n",
    "* Self-training (2)\n",
    "* Cotraining and multiview models (1) (2)\n",
    "* Graph-based models (1) (2)\n",
    "\n",
    "In order to select one of these, my main criteria were that I wanted an algorithm with an efficient runtime that would achieve good performance with few labelled examples but very many unlablled ones. Since self-training, co-training and multiview models would usually require running classifiers over the data many times, I ruled them out. Since the label propagation approach of [Zhu and Ghahramani](http://citeseerx.ist.psu.edu/viewdoc/download?doi=10.1.1.14.3864&rep=rep1&type=pdf) (3) has already demonstrated good performance on a digits dataset, I chose to apply it to MNIST.\n",
    "\n",
    "The algorithm used was an adapted version of the algorithm used by Zhu and Ghahramani. Since the MNIST dataset is fivefold larger than the dataset used in the original paper, it was necessary to adapt the algorithm so that it does not utilize squared distances between all datapoints. Instead, a sparse kernel was used, storing just the nearest neighbours of each datapoint."
   ]
  },
  {
   "cell_type": "markdown",
   "metadata": {},
   "source": [
    "# Results"
   ]
  },
  {
   "cell_type": "markdown",
   "metadata": {},
   "source": [
    "The main algorithm that was tried was label propagation. Its source of the LabelPropagation class in ../models/label_propagation.py and using five-fold cross validation, its results are demonstrated below."
   ]
  },
  {
   "cell_type": "code",
   "execution_count": 1,
   "metadata": {
    "collapsed": false
   },
   "outputs": [
    {
     "name": "stdout",
     "output_type": "stream",
     "text": [
      "Extracting ../dat/train-images-idx3-ubyte.gz\n",
      "Extracting ../dat/train-labels-idx1-ubyte.gz\n",
      "Extracting ../dat/t10k-images-idx3-ubyte.gz\n",
      "Extracting ../dat/t10k-labels-idx1-ubyte.gz\n",
      "fold: 0 filling neighbour row 1 / 3100\n",
      "500 1000 1500 2000 2500 3000 fold: 0 filling neighbour row 1 / 3300\n",
      "500 1000 1500 2000 2500 3000 fold: 0 filling neighbour row 1 / 3500\n",
      "500 1000 1500 2000 2500 3000 fold: 1 filling neighbour row 1 / 3100\n",
      "500 1000 1500 2000 2500 3000 fold: 1 filling neighbour row 1 / 3300\n",
      "500 1000 1500 2000 2500 3000 fold: 1 filling neighbour row 1 / 3500\n",
      "500 1000 1500 2000 2500 3000 fold: 2 filling neighbour row 1 / 3100\n",
      "500 1000 1500 2000 2500 3000 fold: 2 filling neighbour row 1 / 3300\n",
      "500 1000 1500 2000 2500 3000 fold: 2 filling neighbour row 1 / 3500\n",
      "500 1000 1500 2000 2500 3000 fold: 3 filling neighbour row 1 / 3100\n",
      "500 1000 1500 2000 2500 3000 fold: 3 filling neighbour row 1 / 3300\n",
      "500 1000 1500 2000 2500 3000 fold: 3 filling neighbour row 1 / 3500\n",
      "500 1000 1500 2000 2500 3000 fold: 4 filling neighbour row 1 / 3100\n",
      "500 1000 1500 2000 2500 3000 fold: 4 filling neighbour row 1 / 3300\n",
      "500 1000 1500 2000 2500 3000 fold: 4 filling neighbour row 1 / 3500\n",
      "500 1000 1500 2000 2500 3000 "
     ]
    }
   ],
   "source": [
    "from __future__ import division, print_function\n",
    "%run '../models/label_propagation.py'\n",
    "%matplotlib inline\n",
    "\n",
    "from sklearn.neighbors import KNeighborsClassifier\n",
    "import numpy as np\n",
    "import matplotlib.pyplot as plt\n",
    "from tensorflow.contrib.learn.python.learn.datasets.mnist import read_data_sets\n",
    "import json\n",
    "\n",
    "# get model\n",
    "mnist_dir = '../dat'          #the directory of mnist.ubyte files\n",
    "dat = read_data_sets(mnist_dir)\n",
    "train_sizes = [100, 300, 500]\n",
    "k_folds = 5\n",
    "\n",
    "sup_scores = np.zeros((len(train_sizes), k_folds)) # scores from using supervised knn only\n",
    "ssl_scores = np.zeros((len(train_sizes), k_folds)) # scores from using knn on propagated labels\n",
    "\n",
    "for fold in range(k_folds):\n",
    "    for j, labelled_examples in enumerate(train_sizes):\n",
    "        print('fold: {}'.format(fold), end=' ')\n",
    "        i_tr, i_unlabelled = random_sample(dat.train.labels.shape[0], labelled_examples, 3000)\n",
    "                \n",
    "        Xtr = dat.train.images[i_tr]\n",
    "        ytr = dat.train.labels[i_tr]\n",
    "        ytr_onehot = np.eye(10)[ytr]\n",
    "        Xunl = dat.train.images[i_unlabelled]\n",
    "        Xval = dat.validation.images\n",
    "        yval = dat.validation.labels\n",
    "\n",
    "        lp = LabelPropagation(n_nearest_neighbours=10, iters=20, verbose = True) #detail of this class is in ../models/label_propgation.py\n",
    "        pred = lp.propagate(Xtr, ytr_onehot, Xunl)\n",
    "        \n",
    "        knn = KNeighborsClassifier()\n",
    "\n",
    "        knn.fit(np.vstack((Xtr,Xunl)), np.hstack((ytr, pred)))\n",
    "        ssl_scores[j, fold] = knn.score(Xval, yval)\n",
    "\n",
    "        knn.fit(Xtr, ytr)\n",
    "        sup_scores[j, fold] = knn.score(Xval, yval)"
   ]
  },
  {
   "cell_type": "code",
   "execution_count": 2,
   "metadata": {
    "collapsed": false
   },
   "outputs": [
    {
     "data": {
      "image/png": "[encoded data removed]",
      "text/plain": [
       "<matplotlib.figure.Figure at 0x7f4518245890>"
      ]
     },
     "metadata": {},
     "output_type": "display_data"
    }
   ],
   "source": [
    "%run '../models/label_propagation.py'\n",
    "plot_supervised_learner_performance(sup_scores, ssl_scores, title = 'Classification performance', xlab = 'Labelled examples', \n",
    "                                    ylab = 'Accuracy (zero/one loss)', ticklabs = [100,300,500], legend =['Sup', 'SSL'], ylim=(.5, 1))"
   ]
  },
  {
   "cell_type": "markdown",
   "metadata": {},
   "source": [
    "Can we achieve better performance by optimizing the semisupervised learning scheme? To begin with, let us try a range of random plausible values for the number of nearby neighbours and for the number of iterations of label propagation used. Let us perform a random search (4) through two hyperparameters: nearby neighbours and iterations."
   ]
  },
  {
   "cell_type": "code",
   "execution_count": 3,
   "metadata": {
    "collapsed": true
   },
   "outputs": [],
   "source": [
    "i_tr, i_unlabelled = random_sample(dat.train.labels.shape[0], labelled_examples, 3000)\n",
    "Xtr = dat.train.images[i_tr]\n",
    "ytr = dat.train.labels[i_tr]\n",
    "ytr_onehot = np.eye(10)[ytr]\n",
    "Xunl = dat.train.images[i_unlabelled]\n",
    "Xval = dat.validation.images\n",
    "yval = dat.validation.labels"
   ]
  },
  {
   "cell_type": "code",
   "execution_count": 4,
   "metadata": {
    "collapsed": false
   },
   "outputs": [],
   "source": [
    "n_settings = 8\n",
    "\n",
    "n_neighbours_arr = np.random.random_integers(low=3, high=20, size=n_settings)\n",
    "iters_arr = np.random.random_integers(low=3, high=15, size = n_settings)"
   ]
  },
  {
   "cell_type": "code",
   "execution_count": 5,
   "metadata": {
    "collapsed": false
   },
   "outputs": [
    {
     "name": "stdout",
     "output_type": "stream",
     "text": [
      "The supervised learning score was: 0.8224\n"
     ]
    }
   ],
   "source": [
    "knn = KNeighborsClassifier()\n",
    "knn.fit(Xtr, ytr)\n",
    "sup_score = knn.score(Xval, yval)\n",
    "\n",
    "print('The supervised learning score was: {}'.format(sup_score))"
   ]
  },
  {
   "cell_type": "code",
   "execution_count": 6,
   "metadata": {
    "collapsed": false
   },
   "outputs": [
    {
     "name": "stdout",
     "output_type": "stream",
     "text": [
      "filling neighbour row 1 / 3500\n",
      "500 1000 1500 2000 2500 3000 iterations: 12, nearest neighbours: 20, accuracy 0.815, class balance: {0: 0.1, 1: 0.18, 2: 0.06, 3: 0.12, 4: 0.06, 5: 0.06, 6: 0.1, 7: 0.12, 8: 0.07, 9: 0.13}\n",
      "filling neighbour row 1 / 3500\n",
      "500 1000 1500 2000 2500 3000 iterations: 15, nearest neighbours: 13, accuracy 0.838, class balance: {0: 0.1, 1: 0.17, 2: 0.07, 3: 0.12, 4: 0.06, 5: 0.07, 6: 0.1, 7: 0.12, 8: 0.07, 9: 0.13}\n",
      "filling neighbour row 1 / 3500\n",
      "500 1000 1500 2000 2500 3000 iterations: 13, nearest neighbours: 20, accuracy 0.812, class balance: {0: 0.1, 1: 0.18, 2: 0.06, 3: 0.12, 4: 0.06, 5: 0.06, 6: 0.1, 7: 0.12, 8: 0.07, 9: 0.13}\n",
      "filling neighbour row 1 / 3500\n",
      "500 1000 1500 2000 2500 3000 iterations: 10, nearest neighbours: 6, accuracy 0.8736, class balance: {0: 0.1, 1: 0.15, 2: 0.08, 3: 0.11, 4: 0.07, 5: 0.08, 6: 0.1, 7: 0.11, 8: 0.08, 9: 0.13}\n",
      "filling neighbour row 1 / 3500\n",
      "500 1000 1500 2000 2500 3000 iterations: 3, nearest neighbours: 17, accuracy 0.8646, class balance: {0: 0.1, 1: 0.15, 2: 0.08, 3: 0.11, 4: 0.07, 5: 0.07, 6: 0.1, 7: 0.11, 8: 0.08, 9: 0.12}\n",
      "filling neighbour row 1 / 3500\n",
      "500 1000 1500 2000 2500 3000 iterations: 3, nearest neighbours: 13, accuracy 0.8748, class balance: {0: 0.1, 1: 0.15, 2: 0.08, 3: 0.11, 4: 0.07, 5: 0.08, 6: 0.1, 7: 0.11, 8: 0.08, 9: 0.12}\n",
      "filling neighbour row 1 / 3500\n",
      "500 1000 1500 2000 2500 3000 iterations: 5, nearest neighbours: 20, accuracy 0.8452, class balance: {0: 0.1, 1: 0.17, 2: 0.07, 3: 0.11, 4: 0.07, 5: 0.07, 6: 0.1, 7: 0.12, 8: 0.07, 9: 0.12}\n",
      "filling neighbour row 1 / 3500\n",
      "500 1000 1500 2000 2500 3000 iterations: 8, nearest neighbours: 6, accuracy 0.8766, class balance: {0: 0.1, 1: 0.14, 2: 0.08, 3: 0.11, 4: 0.07, 5: 0.08, 6: 0.1, 7: 0.11, 8: 0.08, 9: 0.13}\n",
      "the best score of 0.8766 occurred with 6 nearby neighbours and 8 iterations\n"
     ]
    }
   ],
   "source": [
    "ssl_scores = np.zeros((n_settings,))\n",
    "\n",
    "for i, (nn, iters) in enumerate(zip(n_neighbours_arr, iters_arr)):\n",
    "    lp = LabelPropagation(n_nearest_neighbours=nn, iters=iters, verbose = True)\n",
    "    yprop = lp.propagate(Xtr, np.eye(10)[ytr], Xunl)\n",
    "    \n",
    "    knn = KNeighborsClassifier()\n",
    "\n",
    "    knn.fit(np.vstack((Xtr,Xunl)), np.hstack((ytr, yprop)))\n",
    "    ssl_scores[i] = knn.score(Xval, yval)\n",
    "    \n",
    "    # find how popular each propagated class is:\n",
    "    class_frequencies = {i:float(\"%.2f\" % (i==yprop).mean()) for i in set(yprop)}\n",
    "    print('iterations: {}, nearest neighbours: {}, accuracy {}, class balance: {}'.format(\n",
    "            iters, nn, ssl_scores[i], class_frequencies))\n",
    "best = ssl_scores.argmax()\n",
    "print('the best score of {} occurred with {} nearby neighbours and {} iterations'.format(\n",
    "        ssl_scores.max(), n_neighbours_arr[best], iters_arr[best]))"
   ]
  },
  {
   "cell_type": "markdown",
   "metadata": {},
   "source": [
    "The classes have remained least somewhat balanced regardless of the number of iterations used. So which hyperparameter values performed best?"
   ]
  },
  {
   "cell_type": "code",
   "execution_count": 7,
   "metadata": {
    "collapsed": false
   },
   "outputs": [
    {
     "data": {
      "text/plain": [
       "<matplotlib.text.Text at 0x7f44bc106b10>"
      ]
     },
     "execution_count": 7,
     "metadata": {},
     "output_type": "execute_result"
    },
    {
     "data": {
      "image/png": "[encoded data removed]",
      "text/plain": [
       "<matplotlib.figure.Figure at 0x7f44c40a8190>"
      ]
     },
     "metadata": {},
     "output_type": "display_data"
    }
   ],
   "source": [
    "fig, ((ax1, ax2)) = plt.subplots(1, 2, sharex=False, sharey=True, figsize=(11, 6))\n",
    "\n",
    "ax1.scatter(n_neighbours_arr, ssl_scores, s=50);\n",
    "\n",
    "ax1.set_ylabel('Accuracy');\n",
    "ax1.set_xlabel('nearby_neighbours');\n",
    "\n",
    "ax2.scatter(iters_arr, ssl_scores, s=50);\n",
    "ax2.set_xlabel('iterations')"
   ]
  },
  {
   "cell_type": "markdown",
   "metadata": {},
   "source": [
    "Label propagation seems to work best on average with around 4-15 nearby neighbours and 3-10 iterations.\n",
    "\n",
    "So label propagation provides a clear and significant improvement to test set classification accuracy using a K nearest neighbour classifier. But how good can our classification accuracy get using these propagated labels? To get impressive performance, we need to find the nearest neighbours across a larger portion of the dataset. This is done using stored propagated labels to save compute, though it can also be done in about an hour by uncommenting the lines from the cells below."
   ]
  },
  {
   "cell_type": "code",
   "execution_count": 8,
   "metadata": {
    "collapsed": false
   },
   "outputs": [],
   "source": [
    "labelled_examples = 100\n",
    "\n",
    "#random_perm = np.random.permutation(range(dat.train.labels.shape[0]))\n",
    "#i_tr = random_perm[:labelled_examples]\n",
    "#i_unlab = random_perm[labelled_examples:]\n",
    "\n",
    "stored_point = json.load(open('../dat/propagated_labels.json','r'))\n",
    "i_tr = np.array(stored_point['i_tr'])\n",
    "i_unlab = np.array(stored_point['i_unlab'])\n",
    "yprop = np.array(stored_point['yprop'])\n",
    "\n",
    "Xtr = dat.train.images[i_tr]\n",
    "ytr = np.eye(10)[dat.train.labels[i_tr]]\n",
    "Xunl = dat.train.images[i_unlab]"
   ]
  },
  {
   "cell_type": "code",
   "execution_count": null,
   "metadata": {
    "collapsed": true
   },
   "outputs": [],
   "source": [
    "#lp = LabelPropagation(n_nearest_neighbours=10, iters=20, verbose = True)\n",
    "#yprop = lp.propagate(Xtr, ytr, Xunl)\n",
    "#yprop = np.eye(10)[yprop]"
   ]
  },
  {
   "cell_type": "code",
   "execution_count": 9,
   "metadata": {
    "collapsed": false
   },
   "outputs": [],
   "source": [
    "y_train =np.vstack((ytr, yprop))\n",
    "x_train = np.vstack((Xtr, Xunl))\n",
    "x_train = x_train.reshape(x_train.shape[0],1,28,28)"
   ]
  },
  {
   "cell_type": "markdown",
   "metadata": {},
   "source": [
    "We use a standard modern convolutional neural network with 4 layers, dropout, relu activations and light weight regularization, and train this on labels that were propagated using the previous technique."
   ]
  },
  {
   "cell_type": "code",
   "execution_count": 10,
   "metadata": {
    "collapsed": false
   },
   "outputs": [
    {
     "name": "stderr",
     "output_type": "stream",
     "text": [
      "Using TensorFlow backend.\n"
     ]
    }
   ],
   "source": [
    "from keras.models import Sequential\n",
    "from keras.layers.core import Dense, Dropout, Activation, Flatten\n",
    "from keras.layers.convolutional import Convolution2D, MaxPooling2D\n",
    "from keras.optimizers import SGD\n",
    "from keras.callbacks import EarlyStopping\n",
    "from keras.utils import np_utils\n",
    "from sklearn.metrics import log_loss\n",
    "from keras.regularizers import WeightRegularizer\n",
    "\n",
    "def create_model(img_rows, img_cols,learning_rate, reg, decay, momentum=.9, dropout = .5):\n",
    "    model = Sequential()\n",
    "    model.add(Convolution2D(128, 5, 5, border_mode='same', init='he_normal', W_regularizer=WeightRegularizer(l1=reg),\n",
    "                            input_shape=(1, img_rows, img_cols)))\n",
    "    model.add(Activation('relu'))\n",
    "    model.add(MaxPooling2D(pool_size=(2, 2)))\n",
    "    model.add(Dropout(dropout))\n",
    "\n",
    "    model.add(Convolution2D(312, 3, 3, border_mode='same', init='he_normal', W_regularizer=WeightRegularizer(l1=reg)))\n",
    "    model.add(Activation('relu'))\n",
    "    model.add(MaxPooling2D(pool_size=(2, 2)))\n",
    "    model.add(Dropout(dropout))\n",
    "\n",
    "    model.add(Convolution2D(172, 3, 3, border_mode='same', init='he_normal', W_regularizer=WeightRegularizer(l1=reg)))\n",
    "    model.add(Activation('relu'))\n",
    "    model.add(MaxPooling2D(pool_size=(2, 2)))\n",
    "    model.add(Dropout(dropout))\n",
    "\n",
    "    model.add(Convolution2D(172, 3, 3, border_mode='same', init='he_normal', W_regularizer=WeightRegularizer(l1=reg)))\n",
    "    model.add(Activation('relu'))\n",
    "    model.add(MaxPooling2D(pool_size=(2, 2)))\n",
    "    model.add(Dropout(dropout))\n",
    "\n",
    "    model.add(Flatten())\n",
    "    model.add(Dense(48))\n",
    "    \n",
    "    model.add(Dense(10))\n",
    "    model.add(Activation('softmax'))\n",
    "\n",
    "    sgd = SGD(lr=learning_rate, decay=decay, momentum=0.9, nesterov=True)\n",
    "    model.compile(optimizer=sgd, loss='categorical_crossentropy')\n",
    "    return model"
   ]
  },
  {
   "cell_type": "code",
   "execution_count": 11,
   "metadata": {
    "collapsed": false,
    "scrolled": true
   },
   "outputs": [
    {
     "name": "stdout",
     "output_type": "stream",
     "text": [
      "Train on 55000 samples, validate on 5000 samples\n",
      "Epoch 1/50\n",
      "65s - loss: 20.8670 - val_loss: 1.4048\n",
      "Epoch 2/50\n",
      "64s - loss: 11.3270 - val_loss: 0.9489\n",
      "Epoch 3/50\n",
      "64s - loss: 8.4550 - val_loss: 0.6812\n",
      "Epoch 4/50\n",
      "64s - loss: 7.0113 - val_loss: 0.5888\n",
      "Epoch 5/50\n",
      "64s - loss: 6.1942 - val_loss: 0.5387\n",
      "Epoch 6/50\n",
      "64s - loss: 5.7211 - val_loss: 0.5046\n",
      "Epoch 7/50\n",
      "64s - loss: 5.3033 - val_loss: 0.4722\n",
      "Epoch 8/50\n",
      "64s - loss: 5.1085 - val_loss: 0.5055\n",
      "Epoch 9/50\n",
      "64s - loss: 4.7926 - val_loss: 0.4617\n",
      "Epoch 10/50\n",
      "64s - loss: 4.6286 - val_loss: 0.4743\n",
      "Epoch 11/50\n",
      "64s - loss: 4.4663 - val_loss: 0.4383\n",
      "Epoch 12/50\n",
      "64s - loss: 4.2820 - val_loss: 0.4507\n",
      "Epoch 13/50\n",
      "65s - loss: 4.1994 - val_loss: 0.4283\n",
      "Epoch 14/50\n",
      "64s - loss: 4.1435 - val_loss: 0.4246\n",
      "Epoch 15/50\n",
      "64s - loss: 3.9783 - val_loss: 0.4121\n",
      "Epoch 16/50\n",
      "64s - loss: 3.9317 - val_loss: 0.4418\n",
      "Epoch 17/50\n",
      "64s - loss: 3.8893 - val_loss: 0.4655\n",
      "Epoch 18/50\n",
      "64s - loss: 3.7783 - val_loss: 0.4362\n",
      "Epoch 19/50\n",
      "64s - loss: 3.7436 - val_loss: 0.4607\n",
      "Epoch 20/50\n",
      "64s - loss: 3.7019 - val_loss: 0.4392\n"
     ]
    }
   ],
   "source": [
    "batch_size = 32\n",
    "nb_epoch = 50\n",
    "dropout = .60\n",
    "reg = 1e-6\n",
    "learning_rate = 1e-4\n",
    "decay = 1e-5\n",
    "momentum = .95\n",
    "prop_weight = .2\n",
    "\n",
    "sample_weight = np.ones((x_train.shape[0],))\n",
    "sample_weight[100:] /= prop_weight\n",
    "\n",
    "model = create_model(28, 28, learning_rate=learning_rate, reg=reg, decay = decay, dropout = dropout)\n",
    "\n",
    "x_val = dat.validation.images\n",
    "x_val = x_val.reshape(x_val.shape[0], 1, 28, 28)\n",
    "\n",
    "model.fit(x_train, np.vstack((ytr, yprop)), batch_size=batch_size, nb_epoch=nb_epoch,\n",
    "      shuffle=True, verbose=2, validation_data=(x_val, np.eye(10)[dat.validation.labels]),\n",
    "      callbacks=[EarlyStopping(monitor='val_loss', patience=4, verbose=0)],\n",
    "            sample_weight=sample_weight)\n",
    "\n",
    "x_test = dat.test.images\n",
    "x_test = x_test.reshape(x_test.shape[0], 1, 28, 28)\n",
    "\n",
    "predictions_test = model.predict(x_test, verbose=1)\n",
    "print('Validation set accuracy: {}'.format((dat.test.labels==predictions_test.argmax(axis=1)).mean()))"
   ]
  },
  {
   "cell_type": "markdown",
   "metadata": {},
   "source": [
    "Of course, a neural net cannot perform anywhere near this well without the propagated labels:"
   ]
  },
  {
   "cell_type": "code",
   "execution_count": 13,
   "metadata": {
    "collapsed": false
   },
   "outputs": [
    {
     "name": "stdout",
     "output_type": "stream",
     "text": [
      "Train on 100 samples, validate on 5000 samples\n",
      "Epoch 1/50\n",
      "2s - loss: 13.2731 - val_loss: 2.9490\n",
      "Epoch 2/50\n",
      "2s - loss: 13.8733 - val_loss: 2.7319\n",
      "Epoch 3/50\n",
      "2s - loss: 12.3277 - val_loss: 2.7001\n",
      "Epoch 4/50\n",
      "2s - loss: 11.9342 - val_loss: 2.7289\n",
      "Epoch 5/50\n",
      "2s - loss: 12.3815 - val_loss: 3.0577\n",
      "Epoch 6/50\n",
      "2s - loss: 12.0577 - val_loss: 3.3511\n",
      "Epoch 7/50\n",
      "2s - loss: 12.6683 - val_loss: 3.6526\n",
      "Epoch 8/50\n",
      "2s - loss: 12.3590 - val_loss: 3.7865\n",
      "10000/10000 [==============================] - 4s     \n",
      "Validation set accuracy: 0.101\n"
     ]
    }
   ],
   "source": [
    "model = create_model(28, 28, learning_rate=learning_rate, reg=reg, decay = decay, dropout = dropout)\n",
    "\n",
    "model.fit(Xtr.reshape(100,1,28,28), ytr, batch_size=batch_size, nb_epoch=nb_epoch, shuffle=True, verbose=2, \n",
    "      validation_data=(dat.validation.images.reshape(dat.validation.images.shape[0],1,28,28), np.eye(10)[dat.validation.labels]),\n",
    "      callbacks=[EarlyStopping(monitor='val_loss', patience=4, verbose=0)])\n",
    "\n",
    "predictions_test = model.predict(x_test, verbose=1)\n",
    "\n",
    "print('Validation set accuracy: {}'.format((dat.test.labels==predictions_test.argmax(axis=1)).mean()))"
   ]
  },
  {
   "cell_type": "markdown",
   "metadata": {},
   "source": [
    "# Discussion"
   ]
  },
  {
   "cell_type": "markdown",
   "metadata": {},
   "source": [
    "There are three main issues to remark on: \n",
    "1. Design choices for label propagation class\n",
    "2. Other approaches that were tried\n",
    "3. Other approaches that should be tried\n",
    "\n",
    "## Design choices for label propagation\n",
    "The main challenges in designing the label propagation class arose from limited computing time. The MNIST dataset contains 5x more examples than the original dataset of digits used by Zhu and Gharamani. So using a dense matrix to represent similarities between 55,000 datapoints in memory is barely possible, and performing further computations such as matrix multiplications on this matrix is infeasibly slow. Instead, it was necessary to augment Zhu and Gharamani's algorithm to use a sparse representation for similarity. A natural choice is to compute a kernel that lists the k nearest neighbours, and this is what was done. Using brute force, one would find neighbours by minimizing the squared distance between each pair of points, and this is what was done. An alternative algorithm for finding the minimum distance, the k-d tree was attempted. In theory, this gives a lookup speed of d x n x log(n) where 'd' is dimensionality and 'n' is the number of datapoints rather than d x n x n for the brute force approach. However, this did not give much significant speedup in practise and was in fact slower when 'n' was small. The label propagation algorithm was also parameterised with a number of iterations in order to give the user control of computing time and behaviour.\n",
    "\n",
    "A second design choice related to ensuring balance among the propagated classes. A difficulty with this algorithm is that if one class is propagated more widely than others, then in order to match their neighbours, many unlabelled nodes will also join that class. In order to avoid a bandwagon effect, \"class mass normalisation\" was performed (as Zhu and Ghahramani themselves proposed) so that the sum of the columns was made to equal zero, so that roughly equal amounts of each class were predicted. The accuracy is very inconsistent if class mass normalisation is not used.\n",
    "\n",
    "## Other approaches that were tried\n",
    "The main other approach that was tried was a self-training approach. Using built-in logistic regression or support vector machines, an effort was made to apply labels to all unlabelled examples in decreasing order of certainty. In the case of logistic regression, this was only able to improve performance to a few percentage points above baseline - around 76%.\n",
    "\n",
    "## Other approaches that appear worth trying\n",
    "The main approach that appears worth exploring is to train a deep model with both supervised and unsupervised training objectives from end-to-end. (5), (6) This seems to offer state-of-the-art performance presently. In particular, ladder networks have achieved an impressive error rate of only 1.06% using only 100 labelled examples, and so their approach would be worth seeking to emulate. Another approach that has served as a benchmark for this sort of problem historically is the transductive SVM, which would also be worth testing."
   ]
  },
  {
   "cell_type": "markdown",
   "metadata": {},
   "source": [
    "# Citations"
   ]
  },
  {
   "cell_type": "markdown",
   "metadata": {},
   "source": [
    "1. [Zhu, Xiaojin. \"Semi-supervised learning.\" Encyclopedia of machine learning. Springer US, 2011. 892-897.](http://pages.cs.wisc.edu/~jerryzhu/ssl/pub/SSL_EoML.pdf)\n",
    "2. [Prakash, V. Jothi, and Dr LM Nithya. \"A survey on semi-supervised learning techniques.\" arXiv preprint arXiv:1402.4645 (2014).](http://arxiv.org/pdf/1402.4645.pdf)\n",
    "3. [Zhu, Xiaojin, and Zoubin Ghahramani. Learning from labeled and unlabeled data with label propagation. Technical Report CMU-CALD-02-107, Carnegie Mellon University, 2002.](http://citeseerx.ist.psu.edu/viewdoc/download?doi=10.1.1.14.3864&rep=rep1&type=pdf)\n",
    "4. [Bergstra, James, and Yoshua Bengio. \"Random search for hyper-parameter optimization.\" Journal of Machine Learning Research 13.Feb (2012): 281-305.](http://www.jmlr.org/papers/v13/bergstra12a.html)\n",
    "5. [Rasmus, Antti, et al. \"Semi-supervised learning with ladder networks.\" Advances in Neural Information Processing Systems. 2015.](http://papers.nips.cc/paper/5947-semi-supervised-learning-with-ladder-networks.pdf)\n",
    "6.  [Weston, Jason, et al. \"Deep learning via semi-supervised embedding.\" Neural Networks: Tricks of the Trade. Springer Berlin Heidelberg, 2012. 639-655.](https://infoscience.epfl.ch/record/192705/files/Weston_SPRINGER_2012.pdf)"
   ]
  }
 ],
 "metadata": {
  "kernelspec": {
   "display_name": "Python 2",
   "language": "python",
   "name": "python2"
  },
  "language_info": {
   "codemirror_mode": {
    "name": "ipython",
    "version": 2
   },
   "file_extension": ".py",
   "mimetype": "text/x-python",
   "name": "python",
   "nbconvert_exporter": "python",
   "pygments_lexer": "ipython2",
   "version": "2.7.11"
  }
 },
 "nbformat": 4,
 "nbformat_minor": 0
}
