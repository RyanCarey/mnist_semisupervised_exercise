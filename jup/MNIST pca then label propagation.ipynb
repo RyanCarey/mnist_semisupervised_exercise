{
 "cells": [
  {
   "cell_type": "code",
   "execution_count": 62,
   "metadata": {
    "collapsed": true
   },
   "outputs": [],
   "source": [
    "%matplotlib inline\n",
    "from __future__ import division, print_function\n",
    "from tensorflow.contrib.learn.python.learn.datasets.mnist import read_data_sets\n",
    "import matplotlib.pyplot as plt\n",
    "from sklearn.cross_validation import StratifiedShuffleSplit\n",
    "from sklearn.neighbors import KNeighborsClassifier\n",
    "from sklearn.decomposition import PCA\n",
    "import numpy as np"
   ]
  },
  {
   "cell_type": "markdown",
   "metadata": {},
   "source": [
    "# extract mnist data"
   ]
  },
  {
   "cell_type": "code",
   "execution_count": 2,
   "metadata": {
    "collapsed": false
   },
   "outputs": [
    {
     "name": "stdout",
     "output_type": "stream",
     "text": [
      "Extracting ../dat/train-images-idx3-ubyte.gz\n",
      "Extracting ../dat/train-labels-idx1-ubyte.gz\n",
      "Extracting ../dat/t10k-images-idx3-ubyte.gz\n",
      "Extracting ../dat/t10k-labels-idx1-ubyte.gz\n"
     ]
    }
   ],
   "source": [
    "mnist_dir = '../dat'\n",
    "dat = read_data_sets(mnist_dir)"
   ]
  },
  {
   "cell_type": "code",
   "execution_count": 3,
   "metadata": {
    "collapsed": false
   },
   "outputs": [],
   "source": [
    "# change to familiar variable names\n",
    "Xtr_all = dat.train.images\n",
    "ytr_all = dat.train.labels\n",
    "Xval = dat.validation.images\n",
    "yval = dat.validation.labels"
   ]
  },
  {
   "cell_type": "code",
   "execution_count": 30,
   "metadata": {
    "collapsed": false
   },
   "outputs": [],
   "source": [
    "sss = StratifiedShuffleSplit(ytr_all,train_size=100,n_iter=1)\n",
    "i_tr, i_unlab = [i for i in sss][0] #indices for labelled and unlabelled training examples"
   ]
  },
  {
   "cell_type": "markdown",
   "metadata": {},
   "source": [
    "# test knn with and without pca"
   ]
  },
  {
   "cell_type": "code",
   "execution_count": 13,
   "metadata": {
    "collapsed": false
   },
   "outputs": [
    {
     "data": {
      "text/plain": [
       "0.65100000000000002"
      ]
     },
     "execution_count": 13,
     "metadata": {},
     "output_type": "execute_result"
    }
   ],
   "source": [
    "# performance with 100 training examples\n",
    "knn = KNeighborsClassifier()\n",
    "knn.fit(Xtr_all[i_tr],ytr_all[i_tr])\n",
    "knn_100_score = knn.score(Xval,yval)\n",
    "knn_100_score"
   ]
  },
  {
   "cell_type": "code",
   "execution_count": 24,
   "metadata": {
    "collapsed": false
   },
   "outputs": [
    {
     "data": {
      "text/plain": [
       "0.9738"
      ]
     },
     "execution_count": 24,
     "metadata": {},
     "output_type": "execute_result"
    }
   ],
   "source": [
    "#performance with all training examples (takes 4 mins on my box)\n",
    "#knn.fit(Xtr_all,ytr_all)\n",
    "#full_knn_score = knn.score(Xval,yval)\n",
    "#full_knn_score"
   ]
  },
  {
   "cell_type": "code",
   "execution_count": 6,
   "metadata": {
    "collapsed": false,
    "scrolled": true
   },
   "outputs": [],
   "source": [
    "pca = PCA(n_components = .60)\n",
    "XTtr_all = pca.fit_transform(Xtr_all)\n",
    "XTval = pca.transform(Xval)"
   ]
  },
  {
   "cell_type": "code",
   "execution_count": 78,
   "metadata": {
    "collapsed": false
   },
   "outputs": [
    {
     "data": {
      "text/plain": [
       "((55000, 784), (55000, 2))"
      ]
     },
     "execution_count": 78,
     "metadata": {},
     "output_type": "execute_result"
    }
   ],
   "source": [
    "Xtr_all.shape, XTtr_all.shape"
   ]
  },
  {
   "cell_type": "code",
   "execution_count": 19,
   "metadata": {
    "collapsed": false
   },
   "outputs": [
    {
     "data": {
      "text/plain": [
       "0.69440000000000002"
      ]
     },
     "execution_count": 19,
     "metadata": {},
     "output_type": "execute_result"
    }
   ],
   "source": [
    "knn.fit(XTtr_all[i_tr],ytr_all[i_tr])\n",
    "knn_100_T_score = knn.score(XTval,yval)\n",
    "knn_100_T_score"
   ]
  },
  {
   "cell_type": "code",
   "execution_count": 18,
   "metadata": {
    "collapsed": false
   },
   "outputs": [
    {
     "data": {
      "text/plain": [
       "<Container object of 3 artists>"
      ]
     },
     "execution_count": 18,
     "metadata": {},
     "output_type": "execute_result"
    },
    {
     "data": {
      "image/png": "[encoded data removed]",
      "text/plain": [
       "<matplotlib.figure.Figure at 0x7f7a7fff2a90>"
      ]
     },
     "metadata": {},
     "output_type": "display_data"
    }
   ],
   "source": [
    "plt.bar(range(3),(knn_100_score, knn_100_T_score, full_knn_score))"
   ]
  },
  {
   "cell_type": "code",
   "execution_count": 20,
   "metadata": {
    "collapsed": true
   },
   "outputs": [],
   "source": [
    "from sklearn.linear_model import LogisticRegression"
   ]
  },
  {
   "cell_type": "markdown",
   "metadata": {},
   "source": [
    "# test logistic regression with and without pca"
   ]
  },
  {
   "cell_type": "code",
   "execution_count": 31,
   "metadata": {
    "collapsed": false
   },
   "outputs": [
    {
     "data": {
      "text/plain": [
       "0.746"
      ]
     },
     "execution_count": 31,
     "metadata": {},
     "output_type": "execute_result"
    }
   ],
   "source": [
    "lr = LogisticRegression()\n",
    "lr.fit(Xtr_all[i_tr],ytr_all[i_tr])\n",
    "lr_100_score = lr.score(Xval,yval)\n",
    "lr_100_score"
   ]
  },
  {
   "cell_type": "code",
   "execution_count": 32,
   "metadata": {
    "collapsed": false
   },
   "outputs": [
    {
     "name": "stdout",
     "output_type": "stream",
     "text": [
      "0.7186\n",
      "0.7304\n",
      "0.7252\n",
      "0.725\n"
     ]
    }
   ],
   "source": [
    "for variance in [.6,.8,.9,.95]:\n",
    "    pca = PCA(n_components = variance)\n",
    "    XTtr_all = pca.fit_transform(Xtr_all)\n",
    "    XTval = pca.transform(Xval)\n",
    "    lr = LogisticRegression()\n",
    "    lr.fit(XTtr_all[i_tr],ytr_all[i_tr])\n",
    "    lr_100_T_score = lr.score(XTval,yval)\n",
    "    print(lr_100_T_score)"
   ]
  },
  {
   "cell_type": "code",
   "execution_count": 33,
   "metadata": {
    "collapsed": false
   },
   "outputs": [
    {
     "data": {
      "text/plain": [
       "0.92100000000000004"
      ]
     },
     "execution_count": 33,
     "metadata": {},
     "output_type": "execute_result"
    }
   ],
   "source": [
    "lr = LogisticRegression()\n",
    "lr.fit(Xtr_all,ytr_all)\n",
    "lr_full_T_score = lr.score(Xval,yval)\n",
    "lr_full_T_score"
   ]
  },
  {
   "cell_type": "markdown",
   "metadata": {},
   "source": [
    "# how hard does the classification task look in 2d after pca?"
   ]
  },
  {
   "cell_type": "code",
   "execution_count": 34,
   "metadata": {
    "collapsed": true
   },
   "outputs": [],
   "source": [
    "pca = PCA(n_components=2)\n",
    "XTtr_all = pca.fit_transform(Xtr_all)"
   ]
  },
  {
   "cell_type": "code",
   "execution_count": 44,
   "metadata": {
    "collapsed": false
   },
   "outputs": [
    {
     "data": {
      "text/plain": [
       "<matplotlib.collections.PathCollection at 0x7f7a7f9ac990>"
      ]
     },
     "execution_count": 44,
     "metadata": {},
     "output_type": "execute_result"
    },
    {
     "data": {
      "image/png": "[encoded data removed]",
      "text/plain": [
       "<matplotlib.figure.Figure at 0x7f7a7fb61e90>"
      ]
     },
     "metadata": {},
     "output_type": "display_data"
    }
   ],
   "source": [
    "plt.scatter(XTtr_all[ytr_all==0,0],XTtr_all[ytr_all==0,1],c='r')\n",
    "plt.scatter(XTtr_all[ytr_all==1,0],XTtr_all[ytr_all==1,1],c='b')"
   ]
  },
  {
   "cell_type": "code",
   "execution_count": 42,
   "metadata": {
    "collapsed": false
   },
   "outputs": [
    {
     "data": {
      "text/plain": [
       "<matplotlib.collections.PathCollection at 0x7f7a7fb2c510>"
      ]
     },
     "execution_count": 42,
     "metadata": {},
     "output_type": "execute_result"
    },
    {
     "data": {
      "image/png": "[encoded data removed]",
      "text/plain": [
       "<matplotlib.figure.Figure at 0x7f7a7fc27f90>"
      ]
     },
     "metadata": {},
     "output_type": "display_data"
    }
   ],
   "source": [
    "plt.scatter(XTtr_all[ytr_all==3,0],XTtr_all[ytr_all==3,1],c='r')\n",
    "plt.scatter(XTtr_all[ytr_all==8,0],XTtr_all[ytr_all==8,1],c='b')"
   ]
  },
  {
   "cell_type": "markdown",
   "metadata": {},
   "source": [
    "...looks like it depends greatly on the digit"
   ]
  },
  {
   "cell_type": "markdown",
   "metadata": {},
   "source": [
    "# if there are only 2 digits, how well does knn do?"
   ]
  },
  {
   "cell_type": "code",
   "execution_count": 67,
   "metadata": {
    "collapsed": false
   },
   "outputs": [
    {
     "data": {
      "text/plain": [
       "array([False, False, False, ..., False,  True, False], dtype=bool)"
      ]
     },
     "execution_count": 67,
     "metadata": {},
     "output_type": "execute_result"
    }
   ],
   "source": [
    "yval==0|1"
   ]
  },
  {
   "cell_type": "code",
   "execution_count": 91,
   "metadata": {
    "collapsed": false
   },
   "outputs": [],
   "source": [
    "zeros_and_ones = (ytr_all==0) | (ytr_all==1)\n",
    "Xtr_all_zo = Xtr_all[zeros_and_ones]\n",
    "ytr_all_zo = ytr_all[zeros_and_ones]\n",
    "zeros_and_ones_val = (yval==0) | (yval==1)\n",
    "Xval_zo = Xval[zeros_and_ones_val]\n",
    "yval_zo = yval[zeros_and_ones_val]\n",
    "sss = StratifiedShuffleSplit(ytr_all_zo,train_size=100,n_iter=1)\n",
    "i_tr_zo, i_unlab_zo = [i for i in sss][0] #indices for labelled and unlabelled training examples"
   ]
  },
  {
   "cell_type": "code",
   "execution_count": 92,
   "metadata": {
    "collapsed": false
   },
   "outputs": [
    {
     "data": {
      "text/plain": [
       "0.99232245681381959"
      ]
     },
     "execution_count": 92,
     "metadata": {},
     "output_type": "execute_result"
    }
   ],
   "source": [
    "knn = KNeighborsClassifier()\n",
    "knn.fit(Xtr_all_zo[i_tr_zo],ytr_all_zo[i_tr_zo])\n",
    "knn_100_score = knn.score(Xval_zo,yval_zo)\n",
    "knn_100_score"
   ]
  },
  {
   "cell_type": "code",
   "execution_count": 93,
   "metadata": {
    "collapsed": true
   },
   "outputs": [],
   "source": [
    "pca = PCA(n_components = .60)\n",
    "XTtr_all_zo = pca.fit_transform(Xtr_all_zo)\n",
    "XTval_zo = pca.transform(Xval_zo)"
   ]
  },
  {
   "cell_type": "code",
   "execution_count": 94,
   "metadata": {
    "collapsed": false
   },
   "outputs": [
    {
     "data": {
      "text/plain": [
       "0.99712092130518237"
      ]
     },
     "execution_count": 94,
     "metadata": {},
     "output_type": "execute_result"
    }
   ],
   "source": [
    "knn.fit(XTtr_all_zo[i_tr_zo],ytr_all_zo[i_tr_zo])\n",
    "knn_100_T_score = knn.score(XTval_zo,yval_zo)\n",
    "knn_100_T_score"
   ]
  },
  {
   "cell_type": "code",
   "execution_count": 95,
   "metadata": {
    "collapsed": false
   },
   "outputs": [
    {
     "data": {
      "text/plain": [
       "0.99904030710172742"
      ]
     },
     "execution_count": 95,
     "metadata": {},
     "output_type": "execute_result"
    }
   ],
   "source": [
    "knn.fit(Xtr_all_zo,ytr_all_zo)\n",
    "full_knn_score = knn.score(Xval_zo,yval_zo)\n",
    "full_knn_score"
   ]
  },
  {
   "cell_type": "markdown",
   "metadata": {},
   "source": [
    "looks like the advantages of SSL are accentuated with a simpler problem"
   ]
  },
  {
   "cell_type": "markdown",
   "metadata": {},
   "source": [
    "# Can we make label propagation work in the simple zeros and ones case?"
   ]
  },
  {
   "cell_type": "markdown",
   "metadata": {},
   "source": [
    "[Raghavan, Usha Nandini, Réka Albert, and Soundar Kumara. \"Near linear time algorithm to detect community structures in large-scale networks.\" Physical review E 76.3 (2007): 036106.](http://arxiv.org/abs/0709.2938)"
   ]
  },
  {
   "cell_type": "code",
   "execution_count": 97,
   "metadata": {
    "collapsed": true
   },
   "outputs": [],
   "source": [
    "# to remove any variable confusion\n",
    "del(Xval, yval, ytr_all, Xtr_all,i_tr, i_unlab, XTtr_all, XTval)"
   ]
  },
  {
   "cell_type": "code",
   "execution_count": 96,
   "metadata": {
    "collapsed": false
   },
   "outputs": [
    {
     "data": {
      "text/plain": [
       "array([2, 1, 4, 0, 3])"
      ]
     },
     "execution_count": 96,
     "metadata": {},
     "output_type": "execute_result"
    }
   ],
   "source": [
    "new_labels = np.zeros_like(i_unlab_zo)\n",
    "for j, i in enumerate(i_tr_zo):\n",
    "    new_labels[j] = "
   ]
  },
  {
   "cell_type": "code",
   "execution_count": 237,
   "metadata": {
    "collapsed": true
   },
   "outputs": [],
   "source": [
    "def nearest_neighbour_indices(data, probe,n):\n",
    "    dists = ((data-probe)**2).sum(axis=1)\n",
    "    nearest_indices = np.argpartition(dists,n)[:n]\n",
    "    return(nearest_indices)"
   ]
  },
  {
   "cell_type": "code",
   "execution_count": 238,
   "metadata": {
    "collapsed": true
   },
   "outputs": [],
   "source": [
    "def propagated_label(X, y, unlabelled_example, n):\n",
    "    if len(X)!=len(y):\n",
    "        raise ValueError('X and y have sizes {}, {}. their lengths must be the same'.format(X.shape,y.shape))\n",
    "    nearest_indices = nearest_neighbour_indices(X, unlabelled_example,n)\n",
    "    nearest_labels = y[nearest_indices]\n",
    "    majority_label = np.bincount(nearest_labels.astype(int)).argmax()\n",
    "    return majority_label"
   ]
  },
  {
   "cell_type": "code",
   "execution_count": 226,
   "metadata": {
    "collapsed": false,
    "scrolled": true
   },
   "outputs": [
    {
     "data": {
      "text/plain": [
       "1"
      ]
     },
     "execution_count": 226,
     "metadata": {},
     "output_type": "execute_result"
    }
   ],
   "source": [
    "propagated_label(Xtr_all_zo[i_tr_zo], ytr_all_zo[i_tr_zo], Xtr_all_zo[i_unlab_zo][3],9)"
   ]
  },
  {
   "cell_type": "code",
   "execution_count": 227,
   "metadata": {
    "collapsed": false
   },
   "outputs": [],
   "source": [
    "def propagate_labels(Xtr, ytr, Xunlab, n):\n",
    "    new_labels = np.zeros(Xunlab.shape[0])\n",
    "    reordering = np.random.permutation(Xunlab.shape[0])\n",
    "    Xunlab_reord = Xunlab[reordering]\n",
    "    for i, img in enumerate(Xunlab_reord):\n",
    "        labelled = np.vstack((Xtr,Xunlab_reord[:i]))\n",
    "        labels = np.hstack((ytr,new_labels[:i]))\n",
    "        new_labels[i] = propagated_label(labelled, labels, Xunlab_reord[i], 9)\n",
    "    new_labels = new_labels[np.argsort(reordering)]\n",
    "    return (new_labels)"
   ]
  },
  {
   "cell_type": "code",
   "execution_count": 229,
   "metadata": {
    "collapsed": false
   },
   "outputs": [],
   "source": [
    "new_labels = propagate_labels(Xtr_all_zo[i_tr_zo], ytr_all_zo[i_tr_zo], Xtr_all_zo[i_unlab_zo],9)"
   ]
  },
  {
   "cell_type": "code",
   "execution_count": 236,
   "metadata": {
    "collapsed": false
   },
   "outputs": [
    {
     "data": {
      "text/plain": [
       "0.99484092863284612"
      ]
     },
     "execution_count": 236,
     "metadata": {},
     "output_type": "execute_result"
    }
   ],
   "source": [
    "(ytr_all_zo[i_unlab_zo]==new_labels).mean()"
   ]
  },
  {
   "cell_type": "code",
   "execution_count": 244,
   "metadata": {
    "collapsed": false
   },
   "outputs": [
    {
     "data": {
      "text/plain": [
       "0.98968185726569213"
      ]
     },
     "execution_count": 244,
     "metadata": {},
     "output_type": "execute_result"
    }
   ],
   "source": [
    "knn.fit(Xtr_all_zo[i_tr_zo], ytr_all_zo[i_tr_zo])\n",
    "knn.score(Xtr_all_zo[i_unlab_zo],ytr_all_zo[i_unlab_zo])"
   ]
  },
  {
   "cell_type": "code",
   "execution_count": 245,
   "metadata": {
    "collapsed": false
   },
   "outputs": [
    {
     "data": {
      "text/plain": [
       "0.99232245681381959"
      ]
     },
     "execution_count": 245,
     "metadata": {},
     "output_type": "execute_result"
    }
   ],
   "source": [
    "knn.fit(Xtr_all_zo[i_tr_zo], ytr_all_zo[i_tr_zo])\n",
    "knn.score(Xval_zo, yval_zo)"
   ]
  },
  {
   "cell_type": "code",
   "execution_count": 251,
   "metadata": {
    "collapsed": false
   },
   "outputs": [
    {
     "data": {
      "text/plain": [
       "0.99904030710172742"
      ]
     },
     "execution_count": 251,
     "metadata": {},
     "output_type": "execute_result"
    }
   ],
   "source": [
    "X_consolidated = np.vstack((Xtr_all_zo[i_tr_zo],Xtr_all_zo[i_unlab_zo]))\n",
    "y_consolidated = np.hstack((ytr_all_zo[i_tr_zo],new_labels))\n",
    "knn.fit(X_consolidated, y_consolidated)\n",
    "knn.score(Xval_zo, yval_zo)"
   ]
  },
  {
   "cell_type": "markdown",
   "metadata": {},
   "source": [
    "yes!"
   ]
  }
 ],
 "metadata": {
  "kernelspec": {
   "display_name": "Python 2",
   "language": "python",
   "name": "python2"
  },
  "language_info": {
   "codemirror_mode": {
    "name": "ipython",
    "version": 2
   },
   "file_extension": ".py",
   "mimetype": "text/x-python",
   "name": "python",
   "nbconvert_exporter": "python",
   "pygments_lexer": "ipython2",
   "version": "2.7.11"
  }
 },
 "nbformat": 4,
 "nbformat_minor": 0
}
