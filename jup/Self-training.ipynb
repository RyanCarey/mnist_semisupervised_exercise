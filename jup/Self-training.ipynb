{
 "cells": [
  {
   "cell_type": "code",
   "execution_count": 1,
   "metadata": {
    "collapsed": true
   },
   "outputs": [],
   "source": [
    "%matplotlib inline\n",
    "from __future__ import division, print_function\n",
    "from tensorflow.contrib.learn.python.learn.datasets.mnist import read_data_sets\n",
    "import matplotlib.pyplot as plt\n",
    "from sklearn.cross_validation import StratifiedShuffleSplit\n",
    "from sklearn.neighbors import KNeighborsClassifier\n",
    "from sklearn.decomposition import PCA\n",
    "import numpy as np\n",
    "import time"
   ]
  },
  {
   "cell_type": "code",
   "execution_count": 2,
   "metadata": {
    "collapsed": false,
    "scrolled": false
   },
   "outputs": [
    {
     "name": "stdout",
     "output_type": "stream",
     "text": [
      "Extracting ../dat/train-images-idx3-ubyte.gz\n",
      "Extracting ../dat/train-labels-idx1-ubyte.gz\n",
      "Extracting ../dat/t10k-images-idx3-ubyte.gz\n",
      "Extracting ../dat/t10k-labels-idx1-ubyte.gz\n"
     ]
    }
   ],
   "source": [
    "mnist_dir = '../dat'\n",
    "dat = read_data_sets(mnist_dir)"
   ]
  },
  {
   "cell_type": "code",
   "execution_count": 3,
   "metadata": {
    "collapsed": true
   },
   "outputs": [],
   "source": [
    "train_size = 100\n",
    "sss = StratifiedShuffleSplit(dat.train.labels,train_size=train_size, test_size=dat.train.labels.shape[0] - train_size, n_iter=1, random_state=1234)\n",
    "i_tr, i_unlab = [i for i in sss][0]\n",
    "Xtr = dat.train.images[i_tr]\n",
    "ytr = dat.train.labels[i_tr]\n",
    "Xunl = dat.train.images[i_unlab]\n",
    "#yunl = dat.train.labels[i_unlab]\n",
    "Xval = dat.validation.images\n",
    "yval = dat.validation.labels"
   ]
  },
  {
   "cell_type": "code",
   "execution_count": 4,
   "metadata": {
    "collapsed": true
   },
   "outputs": [],
   "source": [
    "from sklearn.linear_model import LogisticRegression"
   ]
  },
  {
   "cell_type": "code",
   "execution_count": 26,
   "metadata": {
    "collapsed": false
   },
   "outputs": [
    {
     "name": "stdout",
     "output_type": "stream",
     "text": [
      "trained with threshold: 0.95, now confident of 0.0555555555556 of the dataset\n",
      "trained with threshold: 0.9, now confident of 0.363369763206 of the dataset\n",
      "trained with threshold: 0.8, now confident of 0.659508196721 of the dataset\n",
      "trained with threshold: 0.7, now confident of 0.778178506375 of the dataset\n",
      "trained with threshold: 0.6, now confident of 0.875792349727 of the dataset\n",
      "trained with threshold: 0.5, now confident of 0.983479052823 of the dataset\n",
      "trained with threshold: 0.4, now confident of 0.999344262295 of the dataset\n",
      "trained with threshold: 0.3, now confident of 0.999981785064 of the dataset\n",
      "trained with threshold: 0.2, now confident of 1.0 of the dataset\n",
      "trained with threshold: 0.1, now confident of 1.0 of the dataset\n",
      "trained with threshold: 0, now confident of 1.0 of the dataset\n"
     ]
    }
   ],
   "source": [
    "# initialise\n",
    "yunl = np.zeros((Xunl.shape[0],), dtype=int)\n",
    "lr = LogisticRegression()\n",
    "new_confident = np.zeros((Xunl.shape[0],), dtype=bool)\n",
    "already_confident = np.zeros((Xunl.shape[0],), dtype=bool)\n",
    "verbose = True\n",
    "\n",
    "# set and train on labels at descending confidence threshold\n",
    "for thres in [.95, .9, .8, .7, .6, .5, .4, .3, .2, .1, 0]:\n",
    "    lr.fit(np.vstack((Xtr, Xunl[new_confident])), np.hstack((ytr, yunl[new_confident])))\n",
    "    probs = lr.predict_proba(Xunl)\n",
    "    new_confident = (probs.max(axis=1) >= thres) & ~ already_confident\n",
    "    yunl[new_confident] = probs[new_confident].argmax(axis=1)\n",
    "    already_confident = already_confident | new_confident\n",
    "    if verbose:\n",
    "        print('trained with threshold: {}, now confident of {} of the dataset'.format(thres, already_confident.mean()))"
   ]
  },
  {
   "cell_type": "code",
   "execution_count": 40,
   "metadata": {
    "collapsed": false
   },
   "outputs": [
    {
     "data": {
      "text/plain": [
       "0.72840000000000005"
      ]
     },
     "execution_count": 40,
     "metadata": {},
     "output_type": "execute_result"
    }
   ],
   "source": [
    "lr.fit(Xtr, ytr)\n",
    "lr.score(Xval, yval)"
   ]
  },
  {
   "cell_type": "code",
   "execution_count": 44,
   "metadata": {
    "collapsed": false
   },
   "outputs": [
    {
     "data": {
      "text/plain": [
       "0.76300000000000001"
      ]
     },
     "execution_count": 44,
     "metadata": {},
     "output_type": "execute_result"
    }
   ],
   "source": [
    "clf = LogisticRegression()\n",
    "clf.fit(np.vstack((Xtr, Xunl)), np.hstack((ytr, yunl)))\n",
    "clf.score(Xval, yval)"
   ]
  },
  {
   "cell_type": "code",
   "execution_count": 48,
   "metadata": {
    "collapsed": false
   },
   "outputs": [
    {
     "data": {
      "text/plain": [
       "0.75788706739526412"
      ]
     },
     "execution_count": 48,
     "metadata": {},
     "output_type": "execute_result"
    }
   ],
   "source": [
    "(yunl==dat.train.labels[i_unlab]).mean()"
   ]
  },
  {
   "cell_type": "markdown",
   "metadata": {},
   "source": [
    "# Try with SVM"
   ]
  },
  {
   "cell_type": "code",
   "execution_count": 49,
   "metadata": {
    "collapsed": true
   },
   "outputs": [],
   "source": [
    "from sklearn.svm import SVC"
   ]
  },
  {
   "cell_type": "code",
   "execution_count": 51,
   "metadata": {
    "collapsed": false
   },
   "outputs": [
    {
     "name": "stdout",
     "output_type": "stream",
     "text": [
      "trained with threshold: 0.95, now confident of 0.0555555555556 of the dataset\n",
      "trained with threshold: 0.9, now confident of 0.145974499089 of the dataset\n",
      "trained with threshold: 0.8, now confident of 0.314335154827 of the dataset\n",
      "trained with threshold: 0.7, now confident of 0.461111111111 of the dataset\n",
      "trained with threshold: 0.6, now confident of 0.599253187614 of the dataset\n",
      "trained with threshold: 0.5, now confident of 0.747559198543 of the dataset\n",
      "trained with threshold: 0.4, now confident of 0.892131147541 of the dataset\n",
      "trained with threshold: 0.3, now confident of 0.976575591985 of the dataset\n",
      "trained with threshold: 0.2, now confident of 0.999398907104 of the dataset\n",
      "trained with threshold: 0.1, now confident of 1.0 of the dataset\n",
      "trained with threshold: 0, now confident of 1.0 of the dataset\n"
     ]
    }
   ],
   "source": [
    "# initialise\n",
    "yunl = np.zeros((Xunl.shape[0],), dtype=int)\n",
    "svm = SVC(kernel='rbf')\n",
    "new_confident = np.zeros((Xunl.shape[0],), dtype=bool)\n",
    "already_confident = np.zeros((Xunl.shape[0],), dtype=bool)\n",
    "verbose = True\n",
    "\n",
    "# set and train on labels at descending confidence threshold\n",
    "for thres in [.95, .9, .8, .7, .6, .5, .4, .3, .2, .1, 0]:\n",
    "    svm.fit(np.vstack((Xtr, Xunl[new_confident])), np.hstack((ytr, yunl[new_confident])))\n",
    "    probs = lr.predict_proba(Xunl)\n",
    "    new_confident = (probs.max(axis=1) >= thres) & ~ already_confident\n",
    "    yunl[new_confident] = probs[new_confident].argmax(axis=1)\n",
    "    already_confident = already_confident | new_confident\n",
    "    if verbose:\n",
    "        print('trained with threshold: {}, now confident of {} of the dataset'.format(thres, already_confident.mean()))"
   ]
  },
  {
   "cell_type": "code",
   "execution_count": 52,
   "metadata": {
    "collapsed": false
   },
   "outputs": [
    {
     "data": {
      "text/plain": [
       "0.20499999999999999"
      ]
     },
     "execution_count": 52,
     "metadata": {},
     "output_type": "execute_result"
    }
   ],
   "source": [
    "svm.score(Xval, yval)"
   ]
  },
  {
   "cell_type": "code",
   "execution_count": 53,
   "metadata": {
    "collapsed": false
   },
   "outputs": [
    {
     "data": {
      "text/plain": [
       "0.34960000000000002"
      ]
     },
     "execution_count": 53,
     "metadata": {},
     "output_type": "execute_result"
    }
   ],
   "source": [
    "svm.fit(Xtr, ytr)\n",
    "svm.score(Xval, yval)"
   ]
  },
  {
   "cell_type": "code",
   "execution_count": null,
   "metadata": {
    "collapsed": true
   },
   "outputs": [],
   "source": [
    "svm.fit(np.vstack((Xtr, Xunl)), np.hstack((ytr, yunl)))\n",
    "svm.score(Xval, yval)"
   ]
  }
 ],
 "metadata": {
  "kernelspec": {
   "display_name": "Python 2",
   "language": "python",
   "name": "python2"
  },
  "language_info": {
   "codemirror_mode": {
    "name": "ipython",
    "version": 2
   },
   "file_extension": ".py",
   "mimetype": "text/x-python",
   "name": "python",
   "nbconvert_exporter": "python",
   "pygments_lexer": "ipython2",
   "version": "2.7.11"
  }
 },
 "nbformat": 4,
 "nbformat_minor": 0
}
